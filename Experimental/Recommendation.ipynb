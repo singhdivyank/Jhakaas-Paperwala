{
 "cells": [
  {
   "cell_type": "code",
   "execution_count": 1,
   "metadata": {},
   "outputs": [
    {
     "name": "stderr",
     "output_type": "stream",
     "text": [
      "D:\\Anaconda\\lib\\site-packages\\lightfm\\_lightfm_fast.py:9: UserWarning: LightFM was compiled without OpenMP support. Only a single thread will be used.\n",
      "  warnings.warn('LightFM was compiled without OpenMP support. '\n"
     ]
    }
   ],
   "source": [
    "import gensim\n",
    "import matplotlib.pyplot as plt\n",
    "import nltk\n",
    "import numpy as np\n",
    "import pandas as pd\n",
    "import string\n",
    "import scipy\n",
    "import re\n",
    "\n",
    "from gensim import corpora, models, similarities\n",
    "\n",
    "from lightfm import LightFM\n",
    "\n",
    "from nltk.corpus import stopwords\n",
    "from nltk.stem.snowball import SnowballStemmer\n",
    "my_stopwords = stopwords.words('english')\n",
    "stemmer = SnowballStemmer('english')\n",
    "\n",
    "from scipy.spatial.distance import cdist\n",
    "from scipy.sparse import csr_matrix\n",
    "from scipy.sparse.linalg import svds\n",
    "from scipy.linalg import svd\n",
    "\n",
    "from sklearn.cluster import KMeans\n",
    "from sklearn.feature_extraction.text import TfidfVectorizer\n",
    "from sklearn.metrics import silhouette_score, silhouette_samples\n",
    "from sklearn.metrics.pairwise import cosine_similarity, linear_kernel\n",
    "from sklearn.model_selection import train_test_split"
   ]
  },
  {
   "cell_type": "markdown",
   "metadata": {},
   "source": [
    "# Reading data sets\n",
    "\n",
    "1. news_articles\n",
    "2. User_interest"
   ]
  },
  {
   "cell_type": "markdown",
   "metadata": {},
   "source": [
    "## news_articles"
   ]
  },
  {
   "cell_type": "code",
   "execution_count": 2,
   "metadata": {
    "scrolled": true
   },
   "outputs": [
    {
     "data": {
      "text/html": [
       "<div>\n",
       "<style scoped>\n",
       "    .dataframe tbody tr th:only-of-type {\n",
       "        vertical-align: middle;\n",
       "    }\n",
       "\n",
       "    .dataframe tbody tr th {\n",
       "        vertical-align: top;\n",
       "    }\n",
       "\n",
       "    .dataframe thead th {\n",
       "        text-align: right;\n",
       "    }\n",
       "</style>\n",
       "<table border=\"1\" class=\"dataframe\">\n",
       "  <thead>\n",
       "    <tr style=\"text-align: right;\">\n",
       "      <th></th>\n",
       "      <th>Article_Id</th>\n",
       "      <th>Title</th>\n",
       "      <th>Author</th>\n",
       "      <th>Date</th>\n",
       "      <th>Content</th>\n",
       "      <th>URL</th>\n",
       "    </tr>\n",
       "  </thead>\n",
       "  <tbody>\n",
       "    <tr>\n",
       "      <th>0</th>\n",
       "      <td>0</td>\n",
       "      <td>14 dead after bus falls into canal in Telangan...</td>\n",
       "      <td>Devyani Sultania</td>\n",
       "      <td>August 22, 2016 12:34 IST</td>\n",
       "      <td>At least 14 people died and 17 others were inj...</td>\n",
       "      <td>http://www.ibtimes.co.in/14-dead-after-bus-fal...</td>\n",
       "    </tr>\n",
       "    <tr>\n",
       "      <th>1</th>\n",
       "      <td>1</td>\n",
       "      <td>Pratibha Tiwari molested on busy road   Saath ...</td>\n",
       "      <td>Suparno Sarkar</td>\n",
       "      <td>August 22, 2016 19:47 IST</td>\n",
       "      <td>TV actress Pratibha Tiwari  who is best known ...</td>\n",
       "      <td>NaN</td>\n",
       "    </tr>\n",
       "    <tr>\n",
       "      <th>2</th>\n",
       "      <td>2</td>\n",
       "      <td>US  South Korea begin joint military drill ami...</td>\n",
       "      <td>Namrata Tripathi</td>\n",
       "      <td>August 22, 2016 18:10 IST</td>\n",
       "      <td>The United States and South Korea began a join...</td>\n",
       "      <td>http://www.ibtimes.co.in/us-south-korea-begin-...</td>\n",
       "    </tr>\n",
       "    <tr>\n",
       "      <th>3</th>\n",
       "      <td>3</td>\n",
       "      <td>Illegal construction in Bengaluru  Will my hou...</td>\n",
       "      <td>S V Krishnamachari</td>\n",
       "      <td>August 22, 2016 17:39 IST</td>\n",
       "      <td>The relentless drive by Bengaluru s  Bangalore...</td>\n",
       "      <td>http://www.ibtimes.co.in/illegal-construction-...</td>\n",
       "    </tr>\n",
       "    <tr>\n",
       "      <th>4</th>\n",
       "      <td>4</td>\n",
       "      <td>Punjab Gau Rakshak Dal chief held for assaulti...</td>\n",
       "      <td>Pranshu Rathee</td>\n",
       "      <td>August 22, 2016 17:34 IST</td>\n",
       "      <td>Punjab Gau Raksha Dal chief Satish Kumar and h...</td>\n",
       "      <td>http://www.ibtimes.co.in/punjab-gau-rakshak-da...</td>\n",
       "    </tr>\n",
       "  </tbody>\n",
       "</table>\n",
       "</div>"
      ],
      "text/plain": [
       "   Article_Id                                              Title  \\\n",
       "0           0  14 dead after bus falls into canal in Telangan...   \n",
       "1           1  Pratibha Tiwari molested on busy road   Saath ...   \n",
       "2           2  US  South Korea begin joint military drill ami...   \n",
       "3           3  Illegal construction in Bengaluru  Will my hou...   \n",
       "4           4  Punjab Gau Rakshak Dal chief held for assaulti...   \n",
       "\n",
       "               Author                       Date  \\\n",
       "0    Devyani Sultania  August 22, 2016 12:34 IST   \n",
       "1      Suparno Sarkar  August 22, 2016 19:47 IST   \n",
       "2    Namrata Tripathi  August 22, 2016 18:10 IST   \n",
       "3  S V Krishnamachari  August 22, 2016 17:39 IST   \n",
       "4      Pranshu Rathee  August 22, 2016 17:34 IST   \n",
       "\n",
       "                                             Content  \\\n",
       "0  At least 14 people died and 17 others were inj...   \n",
       "1  TV actress Pratibha Tiwari  who is best known ...   \n",
       "2  The United States and South Korea began a join...   \n",
       "3  The relentless drive by Bengaluru s  Bangalore...   \n",
       "4  Punjab Gau Raksha Dal chief Satish Kumar and h...   \n",
       "\n",
       "                                                 URL  \n",
       "0  http://www.ibtimes.co.in/14-dead-after-bus-fal...  \n",
       "1                                                NaN  \n",
       "2  http://www.ibtimes.co.in/us-south-korea-begin-...  \n",
       "3  http://www.ibtimes.co.in/illegal-construction-...  \n",
       "4  http://www.ibtimes.co.in/punjab-gau-rakshak-da...  "
      ]
     },
     "execution_count": 2,
     "metadata": {},
     "output_type": "execute_result"
    }
   ],
   "source": [
    "data = pd.read_csv(r'E:\\Jupyterfiles\\ML_practice\\news_articles.csv')\n",
    "data.head()"
   ]
  },
  {
   "cell_type": "markdown",
   "metadata": {},
   "source": [
    "## User_interest"
   ]
  },
  {
   "cell_type": "code",
   "execution_count": 3,
   "metadata": {},
   "outputs": [
    {
     "name": "stdout",
     "output_type": "stream",
     "text": [
      "(2374, 12)\n"
     ]
    },
    {
     "data": {
      "text/html": [
       "<div>\n",
       "<style scoped>\n",
       "    .dataframe tbody tr th:only-of-type {\n",
       "        vertical-align: middle;\n",
       "    }\n",
       "\n",
       "    .dataframe tbody tr th {\n",
       "        vertical-align: top;\n",
       "    }\n",
       "\n",
       "    .dataframe thead th {\n",
       "        text-align: right;\n",
       "    }\n",
       "</style>\n",
       "<table border=\"1\" class=\"dataframe\">\n",
       "  <thead>\n",
       "    <tr style=\"text-align: right;\">\n",
       "      <th></th>\n",
       "      <th>Unnamed: 0</th>\n",
       "      <th>Article_Id</th>\n",
       "      <th>Title</th>\n",
       "      <th>Author</th>\n",
       "      <th>Date</th>\n",
       "      <th>Content</th>\n",
       "      <th>URL</th>\n",
       "      <th>UserId</th>\n",
       "      <th>SessionId</th>\n",
       "      <th>Article Rank</th>\n",
       "      <th>Click</th>\n",
       "      <th>Time Spent (seconds)</th>\n",
       "    </tr>\n",
       "  </thead>\n",
       "  <tbody>\n",
       "    <tr>\n",
       "      <th>0</th>\n",
       "      <td>0</td>\n",
       "      <td>0</td>\n",
       "      <td>14 dead after bus falls into canal in Telangan...</td>\n",
       "      <td>Devyani Sultania</td>\n",
       "      <td>August 22, 2016 12:34 IST</td>\n",
       "      <td>At least 14 people died and 17 others were inj...</td>\n",
       "      <td>http://www.ibtimes.co.in/14-dead-after-bus-fal...</td>\n",
       "      <td>1</td>\n",
       "      <td>1</td>\n",
       "      <td>1</td>\n",
       "      <td>True</td>\n",
       "      <td>30</td>\n",
       "    </tr>\n",
       "    <tr>\n",
       "      <th>1</th>\n",
       "      <td>2</td>\n",
       "      <td>2</td>\n",
       "      <td>US  South Korea begin joint military drill ami...</td>\n",
       "      <td>Namrata Tripathi</td>\n",
       "      <td>August 22, 2016 18:10 IST</td>\n",
       "      <td>The United States and South Korea began a join...</td>\n",
       "      <td>http://www.ibtimes.co.in/us-south-korea-begin-...</td>\n",
       "      <td>1</td>\n",
       "      <td>1</td>\n",
       "      <td>3</td>\n",
       "      <td>True</td>\n",
       "      <td>78</td>\n",
       "    </tr>\n",
       "    <tr>\n",
       "      <th>2</th>\n",
       "      <td>6</td>\n",
       "      <td>6</td>\n",
       "      <td>Infosys shares likely to fall on Tuesday after...</td>\n",
       "      <td>S V Krishnamachari</td>\n",
       "      <td>August 15, 2016 16:03 IST</td>\n",
       "      <td>Infosys shares could fall sharply on Tuesday w...</td>\n",
       "      <td>http://www.ibtimes.co.in/infosys-shares-likely...</td>\n",
       "      <td>1</td>\n",
       "      <td>1</td>\n",
       "      <td>7</td>\n",
       "      <td>True</td>\n",
       "      <td>54</td>\n",
       "    </tr>\n",
       "    <tr>\n",
       "      <th>3</th>\n",
       "      <td>7</td>\n",
       "      <td>7</td>\n",
       "      <td>Dialogue crucial in finding permanent solution...</td>\n",
       "      <td>Pranshu Rathee</td>\n",
       "      <td>August 22, 2016 21:11 IST</td>\n",
       "      <td>Prime Minister Narendra Modi has expressed dee...</td>\n",
       "      <td>NaN</td>\n",
       "      <td>1</td>\n",
       "      <td>1</td>\n",
       "      <td>8</td>\n",
       "      <td>True</td>\n",
       "      <td>32</td>\n",
       "    </tr>\n",
       "    <tr>\n",
       "      <th>4</th>\n",
       "      <td>11</td>\n",
       "      <td>11</td>\n",
       "      <td>Meghalaya accident  At least 30 killed and 8 i...</td>\n",
       "      <td>Devyani Sultania</td>\n",
       "      <td>June 15, 2016 15:23 IST</td>\n",
       "      <td>UPDATE  2 35 p m  IST   The death toll has ris...</td>\n",
       "      <td>http://www.ibtimes.co.in/assam-accident-least-...</td>\n",
       "      <td>1</td>\n",
       "      <td>1</td>\n",
       "      <td>2</td>\n",
       "      <td>True</td>\n",
       "      <td>16</td>\n",
       "    </tr>\n",
       "  </tbody>\n",
       "</table>\n",
       "</div>"
      ],
      "text/plain": [
       "   Unnamed: 0  Article_Id                                              Title  \\\n",
       "0           0           0  14 dead after bus falls into canal in Telangan...   \n",
       "1           2           2  US  South Korea begin joint military drill ami...   \n",
       "2           6           6  Infosys shares likely to fall on Tuesday after...   \n",
       "3           7           7  Dialogue crucial in finding permanent solution...   \n",
       "4          11          11  Meghalaya accident  At least 30 killed and 8 i...   \n",
       "\n",
       "               Author                       Date  \\\n",
       "0    Devyani Sultania  August 22, 2016 12:34 IST   \n",
       "1    Namrata Tripathi  August 22, 2016 18:10 IST   \n",
       "2  S V Krishnamachari  August 15, 2016 16:03 IST   \n",
       "3      Pranshu Rathee  August 22, 2016 21:11 IST   \n",
       "4    Devyani Sultania    June 15, 2016 15:23 IST   \n",
       "\n",
       "                                             Content  \\\n",
       "0  At least 14 people died and 17 others were inj...   \n",
       "1  The United States and South Korea began a join...   \n",
       "2  Infosys shares could fall sharply on Tuesday w...   \n",
       "3  Prime Minister Narendra Modi has expressed dee...   \n",
       "4  UPDATE  2 35 p m  IST   The death toll has ris...   \n",
       "\n",
       "                                                 URL  UserId  SessionId  \\\n",
       "0  http://www.ibtimes.co.in/14-dead-after-bus-fal...       1          1   \n",
       "1  http://www.ibtimes.co.in/us-south-korea-begin-...       1          1   \n",
       "2  http://www.ibtimes.co.in/infosys-shares-likely...       1          1   \n",
       "3                                                NaN       1          1   \n",
       "4  http://www.ibtimes.co.in/assam-accident-least-...       1          1   \n",
       "\n",
       "   Article Rank  Click  Time Spent (seconds)  \n",
       "0             1   True                    30  \n",
       "1             3   True                    78  \n",
       "2             7   True                    54  \n",
       "3             8   True                    32  \n",
       "4             2   True                    16  "
      ]
     },
     "execution_count": 3,
     "metadata": {},
     "output_type": "execute_result"
    }
   ],
   "source": [
    "user = pd.read_csv(r'User_interest.csv')\n",
    "print(user.shape)\n",
    "user.head()"
   ]
  },
  {
   "cell_type": "markdown",
   "metadata": {},
   "source": [
    "# Recommendation algoritms\n",
    "\n",
    "## Content Based\n",
    "\n",
    "[Building content Based Recommendation Systems](https://towardsdatascience.com/introduction-to-two-approaches-of-content-based-recommendation-system-fc797460c18c)"
   ]
  },
  {
   "cell_type": "code",
   "execution_count": 4,
   "metadata": {},
   "outputs": [
    {
     "data": {
      "text/plain": [
       "(2374, 6550)"
      ]
     },
     "execution_count": 4,
     "metadata": {},
     "output_type": "execute_result"
    }
   ],
   "source": [
    "vectorizer = TfidfVectorizer(analyzer = 'word')\n",
    "tfidf_matrix = vectorizer.fit_transform(user['Title'])\n",
    "tfidf_matrix.shape"
   ]
  },
  {
   "cell_type": "code",
   "execution_count": 5,
   "metadata": {},
   "outputs": [],
   "source": [
    "# cosine-similarity (linear kernel)\n",
    "cosine_similarity = linear_kernel(tfidf_matrix, tfidf_matrix)\n",
    "\n",
    "# index of Title\n",
    "indices = pd.Series(user['Title'].index)"
   ]
  },
  {
   "cell_type": "code",
   "execution_count": 6,
   "metadata": {},
   "outputs": [],
   "source": [
    "# making predictions\n",
    "\n",
    "def recommendation(index, method):\n",
    "    id = indices[index]\n",
    "    \n",
    "    # fetching the top 10 articles\n",
    "    \n",
    "    similarity_score = list(enumerate(method[id]))\n",
    "    similarity_score = sorted(similarity_score, key = lambda x: x[1], reverse = True)\n",
    "    similarity_score = similarity_score[1:11]\n",
    "    \n",
    "    # get the article index\n",
    "    news_index = [i[0] for i in similarity_score]\n",
    "    \n",
    "    # returning the top 10 most similar books\n",
    "    return user['Title'].iloc[news_index]"
   ]
  },
  {
   "cell_type": "code",
   "execution_count": 7,
   "metadata": {},
   "outputs": [
    {
     "data": {
      "text/html": [
       "<div>\n",
       "<style scoped>\n",
       "    .dataframe tbody tr th:only-of-type {\n",
       "        vertical-align: middle;\n",
       "    }\n",
       "\n",
       "    .dataframe tbody tr th {\n",
       "        vertical-align: top;\n",
       "    }\n",
       "\n",
       "    .dataframe thead th {\n",
       "        text-align: right;\n",
       "    }\n",
       "</style>\n",
       "<table border=\"1\" class=\"dataframe\">\n",
       "  <thead>\n",
       "    <tr style=\"text-align: right;\">\n",
       "      <th></th>\n",
       "      <th>Unnamed: 0</th>\n",
       "      <th>Article_Id</th>\n",
       "      <th>Title</th>\n",
       "      <th>Author</th>\n",
       "      <th>Date</th>\n",
       "      <th>Content</th>\n",
       "      <th>URL</th>\n",
       "      <th>UserId</th>\n",
       "      <th>SessionId</th>\n",
       "      <th>Article Rank</th>\n",
       "      <th>Click</th>\n",
       "      <th>Time Spent (seconds)</th>\n",
       "    </tr>\n",
       "  </thead>\n",
       "  <tbody>\n",
       "    <tr>\n",
       "      <th>2294</th>\n",
       "      <td>4666</td>\n",
       "      <td>4666</td>\n",
       "      <td>Bangalore School Rape  Police Admit Botch-Up  ...</td>\n",
       "      <td>Mugdha Variyar</td>\n",
       "      <td>July 29, 2014 15:02 IST</td>\n",
       "      <td>In a move that betrays a botch up in the inves...</td>\n",
       "      <td>http://www.ibtimes.co.in/bangalore-school-rape...</td>\n",
       "      <td>4656</td>\n",
       "      <td>4651</td>\n",
       "      <td>7</td>\n",
       "      <td>True</td>\n",
       "      <td>60</td>\n",
       "    </tr>\n",
       "  </tbody>\n",
       "</table>\n",
       "</div>"
      ],
      "text/plain": [
       "      Unnamed: 0  Article_Id  \\\n",
       "2294        4666        4666   \n",
       "\n",
       "                                                  Title          Author  \\\n",
       "2294  Bangalore School Rape  Police Admit Botch-Up  ...  Mugdha Variyar   \n",
       "\n",
       "                         Date  \\\n",
       "2294  July 29, 2014 15:02 IST   \n",
       "\n",
       "                                                Content  \\\n",
       "2294  In a move that betrays a botch up in the inves...   \n",
       "\n",
       "                                                    URL  UserId  SessionId  \\\n",
       "2294  http://www.ibtimes.co.in/bangalore-school-rape...    4656       4651   \n",
       "\n",
       "      Article Rank  Click  Time Spent (seconds)  \n",
       "2294             7   True                    60  "
      ]
     },
     "execution_count": 7,
     "metadata": {},
     "output_type": "execute_result"
    }
   ],
   "source": [
    "# obtaining random input\n",
    "input = user.sample()\n",
    "input"
   ]
  },
  {
   "cell_type": "code",
   "execution_count": 8,
   "metadata": {},
   "outputs": [
    {
     "data": {
      "text/plain": [
       "2286    Bangalore Police Goofed up on Child Rape Inves...\n",
       "1196    Pakistan Arrests Prime Suspect of Peshawar Sch...\n",
       "1071           Bangalore airport passenger traffic up 23 \n",
       "1458    Hizbul Mujahideen warns of fresh attacks on se...\n",
       "1254    War on Terror Updates  Belgium arrests 2 for N...\n",
       "1197    Peshawar School Attack  Pakistan in Mourning  ...\n",
       "2276    China market crash made these Indian stocks bleed\n",
       "1319    Amnesty International brings the voices of Kas...\n",
       "1450    J K  Army arrests close aide of Hizbul Mujahid...\n",
       "1888    Peshawar Attack  Pakistanis Blame India for Ma...\n",
       "Name: Title, dtype: object"
      ]
     },
     "execution_count": 8,
     "metadata": {},
     "output_type": "execute_result"
    }
   ],
   "source": [
    "# passing the input\n",
    "recommendation(2294, cosine_similarity)"
   ]
  },
  {
   "cell_type": "markdown",
   "metadata": {},
   "source": [
    "## Collaborative Filtering\n",
    "\n",
    "**Requirement:** Rating matrix\n",
    "    \n",
    "Resource - [Building collaborative filtering model](https://towardsdatascience.com/various-implementations-of-collaborative-filtering-100385c6dfe0)\n",
    "\n",
    "### Generating user profile with ratings "
   ]
  },
  {
   "cell_type": "code",
   "execution_count": 9,
   "metadata": {},
   "outputs": [
    {
     "name": "stdout",
     "output_type": "stream",
     "text": [
      "(2374, 8)\n"
     ]
    },
    {
     "data": {
      "text/html": [
       "<div>\n",
       "<style scoped>\n",
       "    .dataframe tbody tr th:only-of-type {\n",
       "        vertical-align: middle;\n",
       "    }\n",
       "\n",
       "    .dataframe tbody tr th {\n",
       "        vertical-align: top;\n",
       "    }\n",
       "\n",
       "    .dataframe thead th {\n",
       "        text-align: right;\n",
       "    }\n",
       "</style>\n",
       "<table border=\"1\" class=\"dataframe\">\n",
       "  <thead>\n",
       "    <tr style=\"text-align: right;\">\n",
       "      <th></th>\n",
       "      <th>Unnamed: 0</th>\n",
       "      <th>Article_Id</th>\n",
       "      <th>Title</th>\n",
       "      <th>UserId</th>\n",
       "      <th>SessionId</th>\n",
       "      <th>Article Rank</th>\n",
       "      <th>Time Spent (seconds)</th>\n",
       "      <th>Ratings</th>\n",
       "    </tr>\n",
       "  </thead>\n",
       "  <tbody>\n",
       "    <tr>\n",
       "      <th>0</th>\n",
       "      <td>0</td>\n",
       "      <td>0</td>\n",
       "      <td>14 dead after bus falls into canal in Telangan...</td>\n",
       "      <td>1</td>\n",
       "      <td>1</td>\n",
       "      <td>1</td>\n",
       "      <td>30</td>\n",
       "      <td>4</td>\n",
       "    </tr>\n",
       "    <tr>\n",
       "      <th>1</th>\n",
       "      <td>2</td>\n",
       "      <td>2</td>\n",
       "      <td>US  South Korea begin joint military drill ami...</td>\n",
       "      <td>1</td>\n",
       "      <td>1</td>\n",
       "      <td>3</td>\n",
       "      <td>78</td>\n",
       "      <td>1</td>\n",
       "    </tr>\n",
       "    <tr>\n",
       "      <th>2</th>\n",
       "      <td>6</td>\n",
       "      <td>6</td>\n",
       "      <td>Infosys shares likely to fall on Tuesday after...</td>\n",
       "      <td>1</td>\n",
       "      <td>1</td>\n",
       "      <td>7</td>\n",
       "      <td>54</td>\n",
       "      <td>2</td>\n",
       "    </tr>\n",
       "    <tr>\n",
       "      <th>3</th>\n",
       "      <td>7</td>\n",
       "      <td>7</td>\n",
       "      <td>Dialogue crucial in finding permanent solution...</td>\n",
       "      <td>1</td>\n",
       "      <td>1</td>\n",
       "      <td>8</td>\n",
       "      <td>32</td>\n",
       "      <td>2</td>\n",
       "    </tr>\n",
       "    <tr>\n",
       "      <th>4</th>\n",
       "      <td>11</td>\n",
       "      <td>11</td>\n",
       "      <td>Meghalaya accident  At least 30 killed and 8 i...</td>\n",
       "      <td>1</td>\n",
       "      <td>1</td>\n",
       "      <td>2</td>\n",
       "      <td>16</td>\n",
       "      <td>4</td>\n",
       "    </tr>\n",
       "  </tbody>\n",
       "</table>\n",
       "</div>"
      ],
      "text/plain": [
       "   Unnamed: 0  Article_Id                                              Title  \\\n",
       "0           0           0  14 dead after bus falls into canal in Telangan...   \n",
       "1           2           2  US  South Korea begin joint military drill ami...   \n",
       "2           6           6  Infosys shares likely to fall on Tuesday after...   \n",
       "3           7           7  Dialogue crucial in finding permanent solution...   \n",
       "4          11          11  Meghalaya accident  At least 30 killed and 8 i...   \n",
       "\n",
       "   UserId  SessionId  Article Rank  Time Spent (seconds)  Ratings  \n",
       "0       1          1             1                    30        4  \n",
       "1       1          1             3                    78        1  \n",
       "2       1          1             7                    54        2  \n",
       "3       1          1             8                    32        2  \n",
       "4       1          1             2                    16        4  "
      ]
     },
     "execution_count": 9,
     "metadata": {},
     "output_type": "execute_result"
    }
   ],
   "source": [
    "rating = pd.read_csv(r'Rated_articles.csv')\n",
    "print(rating.shape)\n",
    "rating.head()"
   ]
  },
  {
   "cell_type": "code",
   "execution_count": 10,
   "metadata": {},
   "outputs": [
    {
     "data": {
      "text/html": [
       "<div>\n",
       "<style scoped>\n",
       "    .dataframe tbody tr th:only-of-type {\n",
       "        vertical-align: middle;\n",
       "    }\n",
       "\n",
       "    .dataframe tbody tr th {\n",
       "        vertical-align: top;\n",
       "    }\n",
       "\n",
       "    .dataframe thead th {\n",
       "        text-align: right;\n",
       "    }\n",
       "</style>\n",
       "<table border=\"1\" class=\"dataframe\">\n",
       "  <thead>\n",
       "    <tr style=\"text-align: right;\">\n",
       "      <th></th>\n",
       "      <th>Unnamed: 0</th>\n",
       "      <th>Article_Id</th>\n",
       "      <th>Title</th>\n",
       "      <th>UserId</th>\n",
       "      <th>SessionId</th>\n",
       "      <th>Article Rank</th>\n",
       "      <th>Time Spent (seconds)</th>\n",
       "      <th>Ratings</th>\n",
       "    </tr>\n",
       "  </thead>\n",
       "  <tbody>\n",
       "    <tr>\n",
       "      <th>2369</th>\n",
       "      <td>4815</td>\n",
       "      <td>4815</td>\n",
       "      <td>Top 10 Tips   Tricks for Gamers to Achieve Pin...</td>\n",
       "      <td>4805</td>\n",
       "      <td>4800</td>\n",
       "      <td>6</td>\n",
       "      <td>18</td>\n",
       "      <td>1</td>\n",
       "    </tr>\n",
       "    <tr>\n",
       "      <th>2370</th>\n",
       "      <td>4817</td>\n",
       "      <td>4817</td>\n",
       "      <td>Six Essential Security Tips Every Whatsapp Use...</td>\n",
       "      <td>4807</td>\n",
       "      <td>4802</td>\n",
       "      <td>8</td>\n",
       "      <td>44</td>\n",
       "      <td>3</td>\n",
       "    </tr>\n",
       "    <tr>\n",
       "      <th>2371</th>\n",
       "      <td>4821</td>\n",
       "      <td>4821</td>\n",
       "      <td>Mobile World Congress 2015  1st Day Highlights...</td>\n",
       "      <td>4811</td>\n",
       "      <td>4806</td>\n",
       "      <td>2</td>\n",
       "      <td>68</td>\n",
       "      <td>1</td>\n",
       "    </tr>\n",
       "    <tr>\n",
       "      <th>2372</th>\n",
       "      <td>4822</td>\n",
       "      <td>4822</td>\n",
       "      <td>Samsung Galaxy S6 and Galaxy S6 Edge  6 Signif...</td>\n",
       "      <td>4812</td>\n",
       "      <td>4807</td>\n",
       "      <td>3</td>\n",
       "      <td>94</td>\n",
       "      <td>2</td>\n",
       "    </tr>\n",
       "    <tr>\n",
       "      <th>2373</th>\n",
       "      <td>4827</td>\n",
       "      <td>4827</td>\n",
       "      <td>HTC Latest Octa Core Smartphone One E9 Spotted...</td>\n",
       "      <td>4817</td>\n",
       "      <td>4812</td>\n",
       "      <td>8</td>\n",
       "      <td>55</td>\n",
       "      <td>1</td>\n",
       "    </tr>\n",
       "  </tbody>\n",
       "</table>\n",
       "</div>"
      ],
      "text/plain": [
       "      Unnamed: 0  Article_Id  \\\n",
       "2369        4815        4815   \n",
       "2370        4817        4817   \n",
       "2371        4821        4821   \n",
       "2372        4822        4822   \n",
       "2373        4827        4827   \n",
       "\n",
       "                                                  Title  UserId  SessionId  \\\n",
       "2369  Top 10 Tips   Tricks for Gamers to Achieve Pin...    4805       4800   \n",
       "2370  Six Essential Security Tips Every Whatsapp Use...    4807       4802   \n",
       "2371  Mobile World Congress 2015  1st Day Highlights...    4811       4806   \n",
       "2372  Samsung Galaxy S6 and Galaxy S6 Edge  6 Signif...    4812       4807   \n",
       "2373  HTC Latest Octa Core Smartphone One E9 Spotted...    4817       4812   \n",
       "\n",
       "      Article Rank  Time Spent (seconds)  Ratings  \n",
       "2369             6                    18        1  \n",
       "2370             8                    44        3  \n",
       "2371             2                    68        1  \n",
       "2372             3                    94        2  \n",
       "2373             8                    55        1  "
      ]
     },
     "execution_count": 10,
     "metadata": {},
     "output_type": "execute_result"
    }
   ],
   "source": [
    "rating.tail()"
   ]
  },
  {
   "cell_type": "code",
   "execution_count": 11,
   "metadata": {},
   "outputs": [
    {
     "name": "stdout",
     "output_type": "stream",
     "text": [
      "Number of users:  2370\n",
      "Number of articles:  2374\n"
     ]
    }
   ],
   "source": [
    "n_users = int(rating.UserId.nunique())\n",
    "n_article = int(rating.Article_Id.nunique())\n",
    "print(\"Number of users: \" , n_users)\n",
    "print(\"Number of articles: \", n_article)"
   ]
  },
  {
   "cell_type": "code",
   "execution_count": 12,
   "metadata": {},
   "outputs": [
    {
     "data": {
      "text/html": [
       "<div>\n",
       "<style scoped>\n",
       "    .dataframe tbody tr th:only-of-type {\n",
       "        vertical-align: middle;\n",
       "    }\n",
       "\n",
       "    .dataframe tbody tr th {\n",
       "        vertical-align: top;\n",
       "    }\n",
       "\n",
       "    .dataframe thead th {\n",
       "        text-align: right;\n",
       "    }\n",
       "</style>\n",
       "<table border=\"1\" class=\"dataframe\">\n",
       "  <thead>\n",
       "    <tr style=\"text-align: right;\">\n",
       "      <th>Article_Id</th>\n",
       "      <th>0</th>\n",
       "      <th>2</th>\n",
       "      <th>6</th>\n",
       "      <th>7</th>\n",
       "      <th>11</th>\n",
       "      <th>13</th>\n",
       "      <th>14</th>\n",
       "      <th>15</th>\n",
       "      <th>16</th>\n",
       "      <th>18</th>\n",
       "      <th>...</th>\n",
       "      <th>4806</th>\n",
       "      <th>4809</th>\n",
       "      <th>4812</th>\n",
       "      <th>4813</th>\n",
       "      <th>4814</th>\n",
       "      <th>4815</th>\n",
       "      <th>4817</th>\n",
       "      <th>4821</th>\n",
       "      <th>4822</th>\n",
       "      <th>4827</th>\n",
       "    </tr>\n",
       "    <tr>\n",
       "      <th>UserId</th>\n",
       "      <th></th>\n",
       "      <th></th>\n",
       "      <th></th>\n",
       "      <th></th>\n",
       "      <th></th>\n",
       "      <th></th>\n",
       "      <th></th>\n",
       "      <th></th>\n",
       "      <th></th>\n",
       "      <th></th>\n",
       "      <th></th>\n",
       "      <th></th>\n",
       "      <th></th>\n",
       "      <th></th>\n",
       "      <th></th>\n",
       "      <th></th>\n",
       "      <th></th>\n",
       "      <th></th>\n",
       "      <th></th>\n",
       "      <th></th>\n",
       "      <th></th>\n",
       "    </tr>\n",
       "  </thead>\n",
       "  <tbody>\n",
       "    <tr>\n",
       "      <th>1</th>\n",
       "      <td>4.0</td>\n",
       "      <td>1.0</td>\n",
       "      <td>2.0</td>\n",
       "      <td>2.0</td>\n",
       "      <td>4.0</td>\n",
       "      <td>NaN</td>\n",
       "      <td>NaN</td>\n",
       "      <td>NaN</td>\n",
       "      <td>NaN</td>\n",
       "      <td>NaN</td>\n",
       "      <td>...</td>\n",
       "      <td>NaN</td>\n",
       "      <td>NaN</td>\n",
       "      <td>NaN</td>\n",
       "      <td>NaN</td>\n",
       "      <td>NaN</td>\n",
       "      <td>NaN</td>\n",
       "      <td>NaN</td>\n",
       "      <td>NaN</td>\n",
       "      <td>NaN</td>\n",
       "      <td>NaN</td>\n",
       "    </tr>\n",
       "    <tr>\n",
       "      <th>3</th>\n",
       "      <td>NaN</td>\n",
       "      <td>NaN</td>\n",
       "      <td>NaN</td>\n",
       "      <td>NaN</td>\n",
       "      <td>NaN</td>\n",
       "      <td>3.0</td>\n",
       "      <td>NaN</td>\n",
       "      <td>NaN</td>\n",
       "      <td>NaN</td>\n",
       "      <td>NaN</td>\n",
       "      <td>...</td>\n",
       "      <td>NaN</td>\n",
       "      <td>NaN</td>\n",
       "      <td>NaN</td>\n",
       "      <td>NaN</td>\n",
       "      <td>NaN</td>\n",
       "      <td>NaN</td>\n",
       "      <td>NaN</td>\n",
       "      <td>NaN</td>\n",
       "      <td>NaN</td>\n",
       "      <td>NaN</td>\n",
       "    </tr>\n",
       "    <tr>\n",
       "      <th>4</th>\n",
       "      <td>NaN</td>\n",
       "      <td>NaN</td>\n",
       "      <td>NaN</td>\n",
       "      <td>NaN</td>\n",
       "      <td>NaN</td>\n",
       "      <td>NaN</td>\n",
       "      <td>1.0</td>\n",
       "      <td>NaN</td>\n",
       "      <td>NaN</td>\n",
       "      <td>NaN</td>\n",
       "      <td>...</td>\n",
       "      <td>NaN</td>\n",
       "      <td>NaN</td>\n",
       "      <td>NaN</td>\n",
       "      <td>NaN</td>\n",
       "      <td>NaN</td>\n",
       "      <td>NaN</td>\n",
       "      <td>NaN</td>\n",
       "      <td>NaN</td>\n",
       "      <td>NaN</td>\n",
       "      <td>NaN</td>\n",
       "    </tr>\n",
       "    <tr>\n",
       "      <th>5</th>\n",
       "      <td>NaN</td>\n",
       "      <td>NaN</td>\n",
       "      <td>NaN</td>\n",
       "      <td>NaN</td>\n",
       "      <td>NaN</td>\n",
       "      <td>NaN</td>\n",
       "      <td>NaN</td>\n",
       "      <td>4.0</td>\n",
       "      <td>NaN</td>\n",
       "      <td>NaN</td>\n",
       "      <td>...</td>\n",
       "      <td>NaN</td>\n",
       "      <td>NaN</td>\n",
       "      <td>NaN</td>\n",
       "      <td>NaN</td>\n",
       "      <td>NaN</td>\n",
       "      <td>NaN</td>\n",
       "      <td>NaN</td>\n",
       "      <td>NaN</td>\n",
       "      <td>NaN</td>\n",
       "      <td>NaN</td>\n",
       "    </tr>\n",
       "    <tr>\n",
       "      <th>6</th>\n",
       "      <td>NaN</td>\n",
       "      <td>NaN</td>\n",
       "      <td>NaN</td>\n",
       "      <td>NaN</td>\n",
       "      <td>NaN</td>\n",
       "      <td>NaN</td>\n",
       "      <td>NaN</td>\n",
       "      <td>NaN</td>\n",
       "      <td>3.0</td>\n",
       "      <td>NaN</td>\n",
       "      <td>...</td>\n",
       "      <td>NaN</td>\n",
       "      <td>NaN</td>\n",
       "      <td>NaN</td>\n",
       "      <td>NaN</td>\n",
       "      <td>NaN</td>\n",
       "      <td>NaN</td>\n",
       "      <td>NaN</td>\n",
       "      <td>NaN</td>\n",
       "      <td>NaN</td>\n",
       "      <td>NaN</td>\n",
       "    </tr>\n",
       "  </tbody>\n",
       "</table>\n",
       "<p>5 rows × 2374 columns</p>\n",
       "</div>"
      ],
      "text/plain": [
       "Article_Id  0     2     6     7     11    13    14    15    16    18    ...  \\\n",
       "UserId                                                                  ...   \n",
       "1            4.0   1.0   2.0   2.0   4.0   NaN   NaN   NaN   NaN   NaN  ...   \n",
       "3            NaN   NaN   NaN   NaN   NaN   3.0   NaN   NaN   NaN   NaN  ...   \n",
       "4            NaN   NaN   NaN   NaN   NaN   NaN   1.0   NaN   NaN   NaN  ...   \n",
       "5            NaN   NaN   NaN   NaN   NaN   NaN   NaN   4.0   NaN   NaN  ...   \n",
       "6            NaN   NaN   NaN   NaN   NaN   NaN   NaN   NaN   3.0   NaN  ...   \n",
       "\n",
       "Article_Id  4806  4809  4812  4813  4814  4815  4817  4821  4822  4827  \n",
       "UserId                                                                  \n",
       "1            NaN   NaN   NaN   NaN   NaN   NaN   NaN   NaN   NaN   NaN  \n",
       "3            NaN   NaN   NaN   NaN   NaN   NaN   NaN   NaN   NaN   NaN  \n",
       "4            NaN   NaN   NaN   NaN   NaN   NaN   NaN   NaN   NaN   NaN  \n",
       "5            NaN   NaN   NaN   NaN   NaN   NaN   NaN   NaN   NaN   NaN  \n",
       "6            NaN   NaN   NaN   NaN   NaN   NaN   NaN   NaN   NaN   NaN  \n",
       "\n",
       "[5 rows x 2374 columns]"
      ]
     },
     "execution_count": 12,
     "metadata": {},
     "output_type": "execute_result"
    }
   ],
   "source": [
    "user_pivot = rating.pivot_table(index = 'UserId', columns = 'Article_Id', values = 'Ratings')\n",
    "user_pivot.head()"
   ]
  },
  {
   "cell_type": "code",
   "execution_count": 13,
   "metadata": {},
   "outputs": [
    {
     "data": {
      "text/plain": [
       "(2370, 2374)"
      ]
     },
     "execution_count": 13,
     "metadata": {},
     "output_type": "execute_result"
    }
   ],
   "source": [
    "user_pivot.shape"
   ]
  },
  {
   "cell_type": "code",
   "execution_count": 14,
   "metadata": {},
   "outputs": [
    {
     "data": {
      "text/plain": [
       "array([[4., 1., 2., ..., 0., 0., 0.],\n",
       "       [0., 0., 0., ..., 0., 0., 0.],\n",
       "       [0., 0., 0., ..., 0., 0., 0.],\n",
       "       ...,\n",
       "       [0., 0., 0., ..., 1., 0., 0.],\n",
       "       [0., 0., 0., ..., 0., 2., 0.],\n",
       "       [0., 0., 0., ..., 0., 0., 1.]])"
      ]
     },
     "execution_count": 14,
     "metadata": {},
     "output_type": "execute_result"
    }
   ],
   "source": [
    "user_pivot = user_pivot.fillna(0)\n",
    "user_pivot_matrix = user_pivot.values\n",
    "user_pivot_matrix"
   ]
  },
  {
   "cell_type": "code",
   "execution_count": 15,
   "metadata": {},
   "outputs": [],
   "source": [
    "user_item_pivot_sparse = csr_matrix(user_pivot)"
   ]
  },
  {
   "cell_type": "code",
   "execution_count": 16,
   "metadata": {},
   "outputs": [
    {
     "data": {
      "text/plain": [
       "(150, 150)"
      ]
     },
     "execution_count": 16,
     "metadata": {},
     "output_type": "execute_result"
    }
   ],
   "source": [
    "n_factors = 150\n",
    "U, sigma, Vt = svds(user_pivot_matrix, k = n_factors)\n",
    "\n",
    "sigma = np.diag(sigma)\n",
    "sigma.shape"
   ]
  },
  {
   "cell_type": "code",
   "execution_count": 17,
   "metadata": {},
   "outputs": [
    {
     "data": {
      "text/plain": [
       "array([[0.99155708, 0.36428167, 0.57337348, ..., 0.15518987, 0.15518987,\n",
       "        0.15518987],\n",
       "       [0.15518987, 0.15518987, 0.15518987, ..., 0.15518987, 0.15518987,\n",
       "        0.15518987],\n",
       "       [0.15518987, 0.15518987, 0.15518987, ..., 0.15518987, 0.15518987,\n",
       "        0.15518987],\n",
       "       ...,\n",
       "       [0.15518987, 0.15518987, 0.15518987, ..., 0.15518987, 0.15518987,\n",
       "        0.15518987],\n",
       "       [0.15518987, 0.15518987, 0.15518987, ..., 0.15518987, 0.15518987,\n",
       "        0.15518987],\n",
       "       [0.15518987, 0.15518987, 0.15518987, ..., 0.15518987, 0.15518987,\n",
       "        0.15518987]])"
      ]
     },
     "execution_count": 17,
     "metadata": {},
     "output_type": "execute_result"
    }
   ],
   "source": [
    "all_user_ratings = np.dot(np.dot(U, sigma), Vt) \n",
    "all_user_ratings_norm = (all_user_ratings - all_user_ratings.min()) / (all_user_ratings.max() - all_user_ratings.min())\n",
    "all_user_ratings_norm"
   ]
  },
  {
   "cell_type": "code",
   "execution_count": 18,
   "metadata": {},
   "outputs": [],
   "source": [
    "cf_preds_df = pd.DataFrame(all_user_ratings_norm, columns = user_pivot.columns).transpose()"
   ]
  },
  {
   "cell_type": "code",
   "execution_count": 19,
   "metadata": {},
   "outputs": [],
   "source": [
    "class Collaborative:\n",
    "    \n",
    "    name = \"Collaborative Filter\"\n",
    "    \n",
    "    def __init__(self, predictions, items = None):\n",
    "        self.predictions = predictions\n",
    "        self.items = items\n",
    "        \n",
    "    def get_model_name(self):\n",
    "        return self.name\n",
    "            \n",
    "    def recommend_items(self, user_id, items_ignore = [], topn = 10, verbose = False):\n",
    "        sorted_preds = self.predictions[user_id].sort_values(ascending = False).reset_index()\n",
    "\n",
    "        recommendations = sorted_preds[~sorted_preds['Article_Id'].isin(items_ignore)].head(topn)\n",
    "\n",
    "        if verbose:\n",
    "            if self.items is None:\n",
    "                raise Exception('\"items\" required in verbose mode')\n",
    "\n",
    "            recommendations = recommendations.merge(self.items, how = 'left', left_on = 'Article_Id', \n",
    "                                                    right_on = 'Article_Id')[['Article_Id', 'Title']]\n",
    "\n",
    "\n",
    "        return recommendations"
   ]
  },
  {
   "cell_type": "code",
   "execution_count": 20,
   "metadata": {},
   "outputs": [],
   "source": [
    "model = Collaborative(cf_preds_df, data)"
   ]
  },
  {
   "cell_type": "code",
   "execution_count": 21,
   "metadata": {},
   "outputs": [
    {
     "data": {
      "text/html": [
       "<div>\n",
       "<style scoped>\n",
       "    .dataframe tbody tr th:only-of-type {\n",
       "        vertical-align: middle;\n",
       "    }\n",
       "\n",
       "    .dataframe tbody tr th {\n",
       "        vertical-align: top;\n",
       "    }\n",
       "\n",
       "    .dataframe thead th {\n",
       "        text-align: right;\n",
       "    }\n",
       "</style>\n",
       "<table border=\"1\" class=\"dataframe\">\n",
       "  <thead>\n",
       "    <tr style=\"text-align: right;\">\n",
       "      <th></th>\n",
       "      <th>Article_Id</th>\n",
       "      <th>Title</th>\n",
       "    </tr>\n",
       "  </thead>\n",
       "  <tbody>\n",
       "    <tr>\n",
       "      <th>0</th>\n",
       "      <td>4827</td>\n",
       "      <td>HTC Latest Octa Core Smartphone One E9 Spotted...</td>\n",
       "    </tr>\n",
       "    <tr>\n",
       "      <th>1</th>\n",
       "      <td>1652</td>\n",
       "      <td>Rio Olympics  Coach Pullela Gopichand talks ab...</td>\n",
       "    </tr>\n",
       "    <tr>\n",
       "      <th>2</th>\n",
       "      <td>1650</td>\n",
       "      <td>Rio Olympics  Rohan Bopanna to snub Paes in me...</td>\n",
       "    </tr>\n",
       "    <tr>\n",
       "      <th>3</th>\n",
       "      <td>1645</td>\n",
       "      <td>Sania Mirza and Martina Hingis crash out of Wi...</td>\n",
       "    </tr>\n",
       "    <tr>\n",
       "      <th>4</th>\n",
       "      <td>1643</td>\n",
       "      <td>Rio Olympics  Focus is on my preparation  not ...</td>\n",
       "    </tr>\n",
       "    <tr>\n",
       "      <th>5</th>\n",
       "      <td>1642</td>\n",
       "      <td>Manchester United and Jose Mourinho will give ...</td>\n",
       "    </tr>\n",
       "    <tr>\n",
       "      <th>6</th>\n",
       "      <td>1639</td>\n",
       "      <td>Pro Wrestling League 2015  Mumbai Garuda becom...</td>\n",
       "    </tr>\n",
       "    <tr>\n",
       "      <th>7</th>\n",
       "      <td>1638</td>\n",
       "      <td>Pro Wrestling League Launched  Sushil Kumar  Y...</td>\n",
       "    </tr>\n",
       "    <tr>\n",
       "      <th>8</th>\n",
       "      <td>1636</td>\n",
       "      <td>Global Hockey League to debut in 2019  7 count...</td>\n",
       "    </tr>\n",
       "    <tr>\n",
       "      <th>9</th>\n",
       "      <td>1635</td>\n",
       "      <td>Sultan Azlan Shah Cup final results  Craig and...</td>\n",
       "    </tr>\n",
       "  </tbody>\n",
       "</table>\n",
       "</div>"
      ],
      "text/plain": [
       "   Article_Id                                              Title\n",
       "0        4827  HTC Latest Octa Core Smartphone One E9 Spotted...\n",
       "1        1652  Rio Olympics  Coach Pullela Gopichand talks ab...\n",
       "2        1650  Rio Olympics  Rohan Bopanna to snub Paes in me...\n",
       "3        1645  Sania Mirza and Martina Hingis crash out of Wi...\n",
       "4        1643  Rio Olympics  Focus is on my preparation  not ...\n",
       "5        1642  Manchester United and Jose Mourinho will give ...\n",
       "6        1639  Pro Wrestling League 2015  Mumbai Garuda becom...\n",
       "7        1638  Pro Wrestling League Launched  Sushil Kumar  Y...\n",
       "8        1636  Global Hockey League to debut in 2019  7 count...\n",
       "9        1635  Sultan Azlan Shah Cup final results  Craig and..."
      ]
     },
     "execution_count": 21,
     "metadata": {},
     "output_type": "execute_result"
    }
   ],
   "source": [
    "model.recommend_items(user_id = 2294, verbose = True)"
   ]
  },
  {
   "cell_type": "markdown",
   "metadata": {},
   "source": [
    "## Hybrid Recommendor System\n",
    "\n",
    "**Keras** approach sucked bad **not using it**\n",
    "\n",
    "Using [LightRF](https://towardsdatascience.com/recommendation-system-in-python-lightfm-61c85010ce17) instead"
   ]
  },
  {
   "cell_type": "code",
   "execution_count": 22,
   "metadata": {},
   "outputs": [
    {
     "data": {
      "text/html": [
       "<div>\n",
       "<style scoped>\n",
       "    .dataframe tbody tr th:only-of-type {\n",
       "        vertical-align: middle;\n",
       "    }\n",
       "\n",
       "    .dataframe tbody tr th {\n",
       "        vertical-align: top;\n",
       "    }\n",
       "\n",
       "    .dataframe thead th {\n",
       "        text-align: right;\n",
       "    }\n",
       "</style>\n",
       "<table border=\"1\" class=\"dataframe\">\n",
       "  <thead>\n",
       "    <tr style=\"text-align: right;\">\n",
       "      <th>Article_Id</th>\n",
       "      <th>0</th>\n",
       "      <th>2</th>\n",
       "      <th>6</th>\n",
       "      <th>7</th>\n",
       "      <th>11</th>\n",
       "      <th>13</th>\n",
       "      <th>14</th>\n",
       "      <th>15</th>\n",
       "      <th>16</th>\n",
       "      <th>18</th>\n",
       "      <th>...</th>\n",
       "      <th>4806</th>\n",
       "      <th>4809</th>\n",
       "      <th>4812</th>\n",
       "      <th>4813</th>\n",
       "      <th>4814</th>\n",
       "      <th>4815</th>\n",
       "      <th>4817</th>\n",
       "      <th>4821</th>\n",
       "      <th>4822</th>\n",
       "      <th>4827</th>\n",
       "    </tr>\n",
       "    <tr>\n",
       "      <th>UserId</th>\n",
       "      <th></th>\n",
       "      <th></th>\n",
       "      <th></th>\n",
       "      <th></th>\n",
       "      <th></th>\n",
       "      <th></th>\n",
       "      <th></th>\n",
       "      <th></th>\n",
       "      <th></th>\n",
       "      <th></th>\n",
       "      <th></th>\n",
       "      <th></th>\n",
       "      <th></th>\n",
       "      <th></th>\n",
       "      <th></th>\n",
       "      <th></th>\n",
       "      <th></th>\n",
       "      <th></th>\n",
       "      <th></th>\n",
       "      <th></th>\n",
       "      <th></th>\n",
       "    </tr>\n",
       "  </thead>\n",
       "  <tbody>\n",
       "    <tr>\n",
       "      <th>1</th>\n",
       "      <td>4.0</td>\n",
       "      <td>1.0</td>\n",
       "      <td>2.0</td>\n",
       "      <td>2.0</td>\n",
       "      <td>4.0</td>\n",
       "      <td>0.0</td>\n",
       "      <td>0.0</td>\n",
       "      <td>0.0</td>\n",
       "      <td>0.0</td>\n",
       "      <td>0.0</td>\n",
       "      <td>...</td>\n",
       "      <td>0.0</td>\n",
       "      <td>0.0</td>\n",
       "      <td>0.0</td>\n",
       "      <td>0.0</td>\n",
       "      <td>0.0</td>\n",
       "      <td>0.0</td>\n",
       "      <td>0.0</td>\n",
       "      <td>0.0</td>\n",
       "      <td>0.0</td>\n",
       "      <td>0.0</td>\n",
       "    </tr>\n",
       "    <tr>\n",
       "      <th>3</th>\n",
       "      <td>0.0</td>\n",
       "      <td>0.0</td>\n",
       "      <td>0.0</td>\n",
       "      <td>0.0</td>\n",
       "      <td>0.0</td>\n",
       "      <td>3.0</td>\n",
       "      <td>0.0</td>\n",
       "      <td>0.0</td>\n",
       "      <td>0.0</td>\n",
       "      <td>0.0</td>\n",
       "      <td>...</td>\n",
       "      <td>0.0</td>\n",
       "      <td>0.0</td>\n",
       "      <td>0.0</td>\n",
       "      <td>0.0</td>\n",
       "      <td>0.0</td>\n",
       "      <td>0.0</td>\n",
       "      <td>0.0</td>\n",
       "      <td>0.0</td>\n",
       "      <td>0.0</td>\n",
       "      <td>0.0</td>\n",
       "    </tr>\n",
       "    <tr>\n",
       "      <th>4</th>\n",
       "      <td>0.0</td>\n",
       "      <td>0.0</td>\n",
       "      <td>0.0</td>\n",
       "      <td>0.0</td>\n",
       "      <td>0.0</td>\n",
       "      <td>0.0</td>\n",
       "      <td>1.0</td>\n",
       "      <td>0.0</td>\n",
       "      <td>0.0</td>\n",
       "      <td>0.0</td>\n",
       "      <td>...</td>\n",
       "      <td>0.0</td>\n",
       "      <td>0.0</td>\n",
       "      <td>0.0</td>\n",
       "      <td>0.0</td>\n",
       "      <td>0.0</td>\n",
       "      <td>0.0</td>\n",
       "      <td>0.0</td>\n",
       "      <td>0.0</td>\n",
       "      <td>0.0</td>\n",
       "      <td>0.0</td>\n",
       "    </tr>\n",
       "    <tr>\n",
       "      <th>5</th>\n",
       "      <td>0.0</td>\n",
       "      <td>0.0</td>\n",
       "      <td>0.0</td>\n",
       "      <td>0.0</td>\n",
       "      <td>0.0</td>\n",
       "      <td>0.0</td>\n",
       "      <td>0.0</td>\n",
       "      <td>4.0</td>\n",
       "      <td>0.0</td>\n",
       "      <td>0.0</td>\n",
       "      <td>...</td>\n",
       "      <td>0.0</td>\n",
       "      <td>0.0</td>\n",
       "      <td>0.0</td>\n",
       "      <td>0.0</td>\n",
       "      <td>0.0</td>\n",
       "      <td>0.0</td>\n",
       "      <td>0.0</td>\n",
       "      <td>0.0</td>\n",
       "      <td>0.0</td>\n",
       "      <td>0.0</td>\n",
       "    </tr>\n",
       "    <tr>\n",
       "      <th>6</th>\n",
       "      <td>0.0</td>\n",
       "      <td>0.0</td>\n",
       "      <td>0.0</td>\n",
       "      <td>0.0</td>\n",
       "      <td>0.0</td>\n",
       "      <td>0.0</td>\n",
       "      <td>0.0</td>\n",
       "      <td>0.0</td>\n",
       "      <td>3.0</td>\n",
       "      <td>0.0</td>\n",
       "      <td>...</td>\n",
       "      <td>0.0</td>\n",
       "      <td>0.0</td>\n",
       "      <td>0.0</td>\n",
       "      <td>0.0</td>\n",
       "      <td>0.0</td>\n",
       "      <td>0.0</td>\n",
       "      <td>0.0</td>\n",
       "      <td>0.0</td>\n",
       "      <td>0.0</td>\n",
       "      <td>0.0</td>\n",
       "    </tr>\n",
       "  </tbody>\n",
       "</table>\n",
       "<p>5 rows × 2374 columns</p>\n",
       "</div>"
      ],
      "text/plain": [
       "Article_Id  0     2     6     7     11    13    14    15    16    18    ...  \\\n",
       "UserId                                                                  ...   \n",
       "1            4.0   1.0   2.0   2.0   4.0   0.0   0.0   0.0   0.0   0.0  ...   \n",
       "3            0.0   0.0   0.0   0.0   0.0   3.0   0.0   0.0   0.0   0.0  ...   \n",
       "4            0.0   0.0   0.0   0.0   0.0   0.0   1.0   0.0   0.0   0.0  ...   \n",
       "5            0.0   0.0   0.0   0.0   0.0   0.0   0.0   4.0   0.0   0.0  ...   \n",
       "6            0.0   0.0   0.0   0.0   0.0   0.0   0.0   0.0   3.0   0.0  ...   \n",
       "\n",
       "Article_Id  4806  4809  4812  4813  4814  4815  4817  4821  4822  4827  \n",
       "UserId                                                                  \n",
       "1            0.0   0.0   0.0   0.0   0.0   0.0   0.0   0.0   0.0   0.0  \n",
       "3            0.0   0.0   0.0   0.0   0.0   0.0   0.0   0.0   0.0   0.0  \n",
       "4            0.0   0.0   0.0   0.0   0.0   0.0   0.0   0.0   0.0   0.0  \n",
       "5            0.0   0.0   0.0   0.0   0.0   0.0   0.0   0.0   0.0   0.0  \n",
       "6            0.0   0.0   0.0   0.0   0.0   0.0   0.0   0.0   0.0   0.0  \n",
       "\n",
       "[5 rows x 2374 columns]"
      ]
     },
     "execution_count": 22,
     "metadata": {},
     "output_type": "execute_result"
    }
   ],
   "source": [
    "user_pivot.head()"
   ]
  },
  {
   "cell_type": "code",
   "execution_count": 23,
   "metadata": {},
   "outputs": [
    {
     "data": {
      "text/plain": [
       "(2370, 2374)"
      ]
     },
     "execution_count": 23,
     "metadata": {},
     "output_type": "execute_result"
    }
   ],
   "source": [
    "user_pivot.shape"
   ]
  },
  {
   "cell_type": "code",
   "execution_count": 24,
   "metadata": {},
   "outputs": [],
   "source": [
    "u_id = list(user_pivot.index)\n",
    "u_dict = {}\n",
    "counter = 0\n",
    "\n",
    "for i in u_id:\n",
    "    u_dict[i] = counter\n",
    "    counter += 1"
   ]
  },
  {
   "cell_type": "code",
   "execution_count": 25,
   "metadata": {},
   "outputs": [
    {
     "data": {
      "text/plain": [
       "2370"
      ]
     },
     "execution_count": 25,
     "metadata": {},
     "output_type": "execute_result"
    }
   ],
   "source": [
    "len(u_dict)"
   ]
  },
  {
   "cell_type": "code",
   "execution_count": 26,
   "metadata": {},
   "outputs": [
    {
     "data": {
      "text/plain": [
       "<2370x2374 sparse matrix of type '<class 'numpy.float64'>'\n",
       "\twith 2374 stored elements in Compressed Sparse Row format>"
      ]
     },
     "execution_count": 26,
     "metadata": {},
     "output_type": "execute_result"
    }
   ],
   "source": [
    "# convert to csr matrix\n",
    "u_interaction_csr = csr_matrix(user_pivot.values)\n",
    "u_interaction_csr"
   ]
  },
  {
   "cell_type": "code",
   "execution_count": 27,
   "metadata": {},
   "outputs": [],
   "source": [
    "item_dict ={}\n",
    "df = rating[['Article_Id', 'Title']].sort_values('Article_Id').reset_index()\n",
    "\n",
    "for i in range(df.shape[0]):\n",
    "    item_dict[(df.loc[i,'Article_Id'])] = df.loc[i,'Title']"
   ]
  },
  {
   "cell_type": "code",
   "execution_count": 28,
   "metadata": {},
   "outputs": [
    {
     "data": {
      "text/plain": [
       "2374"
      ]
     },
     "execution_count": 28,
     "metadata": {},
     "output_type": "execute_result"
    }
   ],
   "source": [
    "len(item_dict)"
   ]
  },
  {
   "cell_type": "code",
   "execution_count": 29,
   "metadata": {},
   "outputs": [],
   "source": [
    "model = LightFM(loss = 'warp', random_state = 2016, learning_rate = 0.90, no_components = 150, user_alpha = 0.000005)\n",
    "model = model.fit(u_interaction_csr, epochs = 100, num_threads = 16, verbose = False)"
   ]
  },
  {
   "cell_type": "code",
   "execution_count": 30,
   "metadata": {},
   "outputs": [],
   "source": [
    "def sample_recommendation_user(model, rating, u_id, u_dict, item_dict, threshold = 0, nrec_items = 10, show = True):\n",
    "    \n",
    "    n_users, n_items = rating.shape\n",
    "    user_x = u_dict[u_id]\n",
    "    scores = pd.Series(model.predict(user_x, np.arange(n_items), item_features = u_interaction_csr))\n",
    "    scores.index = rating.columns\n",
    "    scores = list(pd.Series(scores.sort_values(ascending = False).index))\n",
    "    \n",
    "    known_items = list(pd.Series(rating.loc[UserId,:] \\\n",
    "                                 [rating.loc[UserId,:] > threshold].index).sort_values(ascending = False))\n",
    "    \n",
    "    scores = [x for x in scores if x not in known_items]\n",
    "    return_score_list = scores[0 : nrec_items]\n",
    "    known_items = list(pd.Series(known_items).apply(lambda x: item_dict[x]))\n",
    "    scores = list(pd.Series(return_score_list).apply(lambda x: item_dict[x]))\n",
    "    \n",
    "    if show == True:\n",
    "        print (\"User: \" + str(UserId))\n",
    "        print(\"Known Likes:\")\n",
    "        counter = 1\n",
    "        for i in known_items:\n",
    "            print(str(counter) + '- ' + i)\n",
    "            counter += 1\n",
    "\n",
    "        print(\"\\n Recommended Items:\")\n",
    "        counter = 1\n",
    "        for i in scores:\n",
    "            print(str(counter) + '- ' + i)\n",
    "            counter += 1"
   ]
  },
  {
   "cell_type": "code",
   "execution_count": null,
   "metadata": {},
   "outputs": [],
   "source": [
    "sample_recommendation_user(model, user_pivot_matrix, 1, u_dict, item_dict)"
   ]
  },
  {
   "cell_type": "markdown",
   "metadata": {},
   "source": [
    "# Clustering data\n",
    "## Understanding news data"
   ]
  },
  {
   "cell_type": "code",
   "execution_count": 31,
   "metadata": {},
   "outputs": [
    {
     "data": {
      "text/plain": [
       "['14 dead after bus falls into canal in Telangana s Khammam district  Andhra CM promises Rs 3 lakh compensation',\n",
       " 'Pratibha Tiwari molested on busy road   Saath Nibhana Saathiya  actress drags accused to police station',\n",
       " 'US  South Korea begin joint military drill amid nuclear threat from North Korea',\n",
       " 'Illegal construction in Bengaluru  Will my house be demolished next  ask worried residents',\n",
       " 'Punjab Gau Rakshak Dal chief held for assaulting  sodomising cattle traders',\n",
       " 'Phillipines drug war  1 800 drug-related deaths since June-end',\n",
       " 'Infosys shares likely to fall on Tuesday after company s client RBS scraps Williams   Glyn project',\n",
       " 'Dialogue crucial in finding permanent solution to Kashmir s crisis  PM Modi',\n",
       " 'School bus overturns in Jammu killing 1 and injuring 16 children',\n",
       " 'Rajasthan  Villagers rescue 50 kids after school bus falls into river in Bhilwara']"
      ]
     },
     "execution_count": 31,
     "metadata": {},
     "output_type": "execute_result"
    }
   ],
   "source": [
    "title = list(data['Title'])\n",
    "title[:10]"
   ]
  },
  {
   "cell_type": "code",
   "execution_count": 32,
   "metadata": {},
   "outputs": [
    {
     "data": {
      "text/html": [
       "<div>\n",
       "<style scoped>\n",
       "    .dataframe tbody tr th:only-of-type {\n",
       "        vertical-align: middle;\n",
       "    }\n",
       "\n",
       "    .dataframe tbody tr th {\n",
       "        vertical-align: top;\n",
       "    }\n",
       "\n",
       "    .dataframe thead th {\n",
       "        text-align: right;\n",
       "    }\n",
       "</style>\n",
       "<table border=\"1\" class=\"dataframe\">\n",
       "  <thead>\n",
       "    <tr style=\"text-align: right;\">\n",
       "      <th></th>\n",
       "      <th>Total</th>\n",
       "      <th>Percent</th>\n",
       "    </tr>\n",
       "  </thead>\n",
       "  <tbody>\n",
       "    <tr>\n",
       "      <th>URL</th>\n",
       "      <td>1442</td>\n",
       "      <td>0.298489</td>\n",
       "    </tr>\n",
       "    <tr>\n",
       "      <th>Author</th>\n",
       "      <td>6</td>\n",
       "      <td>0.001242</td>\n",
       "    </tr>\n",
       "    <tr>\n",
       "      <th>Date</th>\n",
       "      <td>5</td>\n",
       "      <td>0.001035</td>\n",
       "    </tr>\n",
       "    <tr>\n",
       "      <th>Content</th>\n",
       "      <td>0</td>\n",
       "      <td>0.000000</td>\n",
       "    </tr>\n",
       "    <tr>\n",
       "      <th>Title</th>\n",
       "      <td>0</td>\n",
       "      <td>0.000000</td>\n",
       "    </tr>\n",
       "  </tbody>\n",
       "</table>\n",
       "</div>"
      ],
      "text/plain": [
       "         Total   Percent\n",
       "URL       1442  0.298489\n",
       "Author       6  0.001242\n",
       "Date         5  0.001035\n",
       "Content      0  0.000000\n",
       "Title        0  0.000000"
      ]
     },
     "execution_count": 32,
     "metadata": {},
     "output_type": "execute_result"
    }
   ],
   "source": [
    "total = data.isnull().sum().sort_values(ascending = False)\n",
    "percent = (data.isnull().sum()/data.isnull().count()).sort_values(ascending = False)\n",
    "missing_data = pd.concat([total, percent], axis = 1, keys = ['Total', 'Percent'])\n",
    "missing_data.head()"
   ]
  },
  {
   "cell_type": "markdown",
   "metadata": {},
   "source": [
    "## Data preprocessing"
   ]
  },
  {
   "cell_type": "code",
   "execution_count": 33,
   "metadata": {},
   "outputs": [
    {
     "name": "stdout",
     "output_type": "stream",
     "text": [
      "(4831, 4)\n"
     ]
    },
    {
     "data": {
      "text/html": [
       "<div>\n",
       "<style scoped>\n",
       "    .dataframe tbody tr th:only-of-type {\n",
       "        vertical-align: middle;\n",
       "    }\n",
       "\n",
       "    .dataframe tbody tr th {\n",
       "        vertical-align: top;\n",
       "    }\n",
       "\n",
       "    .dataframe thead th {\n",
       "        text-align: right;\n",
       "    }\n",
       "</style>\n",
       "<table border=\"1\" class=\"dataframe\">\n",
       "  <thead>\n",
       "    <tr style=\"text-align: right;\">\n",
       "      <th></th>\n",
       "      <th>Article_Id</th>\n",
       "      <th>Title</th>\n",
       "      <th>Author</th>\n",
       "      <th>Content</th>\n",
       "    </tr>\n",
       "  </thead>\n",
       "  <tbody>\n",
       "    <tr>\n",
       "      <th>0</th>\n",
       "      <td>0</td>\n",
       "      <td>14 dead after bus falls into canal in Telangan...</td>\n",
       "      <td>Devyani Sultania</td>\n",
       "      <td>At least 14 people died and 17 others were inj...</td>\n",
       "    </tr>\n",
       "    <tr>\n",
       "      <th>1</th>\n",
       "      <td>1</td>\n",
       "      <td>Pratibha Tiwari molested on busy road   Saath ...</td>\n",
       "      <td>Suparno Sarkar</td>\n",
       "      <td>TV actress Pratibha Tiwari  who is best known ...</td>\n",
       "    </tr>\n",
       "    <tr>\n",
       "      <th>2</th>\n",
       "      <td>2</td>\n",
       "      <td>US  South Korea begin joint military drill ami...</td>\n",
       "      <td>Namrata Tripathi</td>\n",
       "      <td>The United States and South Korea began a join...</td>\n",
       "    </tr>\n",
       "    <tr>\n",
       "      <th>3</th>\n",
       "      <td>3</td>\n",
       "      <td>Illegal construction in Bengaluru  Will my hou...</td>\n",
       "      <td>S V Krishnamachari</td>\n",
       "      <td>The relentless drive by Bengaluru s  Bangalore...</td>\n",
       "    </tr>\n",
       "    <tr>\n",
       "      <th>4</th>\n",
       "      <td>4</td>\n",
       "      <td>Punjab Gau Rakshak Dal chief held for assaulti...</td>\n",
       "      <td>Pranshu Rathee</td>\n",
       "      <td>Punjab Gau Raksha Dal chief Satish Kumar and h...</td>\n",
       "    </tr>\n",
       "  </tbody>\n",
       "</table>\n",
       "</div>"
      ],
      "text/plain": [
       "   Article_Id                                              Title  \\\n",
       "0           0  14 dead after bus falls into canal in Telangan...   \n",
       "1           1  Pratibha Tiwari molested on busy road   Saath ...   \n",
       "2           2  US  South Korea begin joint military drill ami...   \n",
       "3           3  Illegal construction in Bengaluru  Will my hou...   \n",
       "4           4  Punjab Gau Rakshak Dal chief held for assaulti...   \n",
       "\n",
       "               Author                                            Content  \n",
       "0    Devyani Sultania  At least 14 people died and 17 others were inj...  \n",
       "1      Suparno Sarkar  TV actress Pratibha Tiwari  who is best known ...  \n",
       "2    Namrata Tripathi  The United States and South Korea began a join...  \n",
       "3  S V Krishnamachari  The relentless drive by Bengaluru s  Bangalore...  \n",
       "4      Pranshu Rathee  Punjab Gau Raksha Dal chief Satish Kumar and h...  "
      ]
     },
     "execution_count": 33,
     "metadata": {},
     "output_type": "execute_result"
    }
   ],
   "source": [
    "data = data.drop(columns = ['URL', 'Date'])\n",
    "print(data.shape)\n",
    "data.head()"
   ]
  },
  {
   "cell_type": "code",
   "execution_count": 34,
   "metadata": {},
   "outputs": [],
   "source": [
    "def preprocessing_text(sen):\n",
    "    sentence = re.sub('[^a-zA-Z]', ' ', sen) # remove punctuations and numbers\n",
    "    sentence = re.sub(r'\\s+[^a-zA-Z]\\s+', ' ' , sentence) # remove single character\n",
    "    sentence = re.sub(r'\\s+', ' ', sentence) # remove multiple spaces\n",
    "    \n",
    "    return sentence"
   ]
  },
  {
   "cell_type": "code",
   "execution_count": 35,
   "metadata": {},
   "outputs": [],
   "source": [
    "def remove_stopwords(sentence):\n",
    "    word_tokens = str(sentence).split()\n",
    "    tokens = [word for word in word_tokens if not word in my_stopwords]\n",
    "    stem = [stemmer.stem(t) for t in tokens]\n",
    "    sentence = \"\".join(list(stem))\n",
    "    \n",
    "    return sentence"
   ]
  },
  {
   "cell_type": "code",
   "execution_count": 36,
   "metadata": {},
   "outputs": [],
   "source": [
    "corpus = [sentence for sentence in data.Content]\n",
    "\n",
    "# removed punctuations\n",
    "corpus_punctuations = [(lambda doc: preprocessing_text(doc))(doc) for doc in corpus]\n",
    "\n",
    "# removed stopwords\n",
    "corpus_stopwords = [(lambda doc: remove_stopwords(doc))(doc) for doc in corpus_punctuations]\n",
    "\n",
    "vocab = corpus_stopwords"
   ]
  },
  {
   "cell_type": "markdown",
   "metadata": {},
   "source": [
    "## Vectorization"
   ]
  },
  {
   "cell_type": "code",
   "execution_count": 37,
   "metadata": {},
   "outputs": [
    {
     "data": {
      "text/plain": [
       "[4829.997516042343,\n",
       " 4828.997515527866,\n",
       " 4827.9975150128585,\n",
       " 4826.997514498497,\n",
       " 4825.997513983891,\n",
       " 4823.997927461238,\n",
       " 4823.997512953865,\n",
       " 4821.997926601933,\n",
       " 4820.99792617165]"
      ]
     },
     "execution_count": 37,
     "metadata": {},
     "output_type": "execute_result"
    }
   ],
   "source": [
    "vectorizer = TfidfVectorizer(analyzer = 'word', ngram_range = (1, 3), stop_words = 'english')\n",
    "tfidf_matrix = vectorizer.fit_transform(vocab)\n",
    "tfidf_matrix\n",
    "\n",
    "K = range(1, 10)\n",
    "sse = []\n",
    "\n",
    "for k in K:\n",
    "    km = KMeans(n_clusters = k)\n",
    "    km = km.fit(tfidf_matrix)\n",
    "    sse.append(km.inertia_)\n",
    "    \n",
    "sse"
   ]
  },
  {
   "cell_type": "markdown",
   "metadata": {},
   "source": [
    "## Elbow Curve\n",
    "\n",
    "[KMeans clustering](https://blog.cambridgespark.com/how-to-determine-the-optimal-number-of-clusters-for-k-means-clustering-14f27070048f)"
   ]
  },
  {
   "cell_type": "code",
   "execution_count": 38,
   "metadata": {},
   "outputs": [
    {
     "data": {
      "text/plain": [
       "Text(0.5, 1.0, 'Optimal clusters by elbow method')"
      ]
     },
     "execution_count": 38,
     "metadata": {},
     "output_type": "execute_result"
    },
    {
     "data": {
      "image/png": "[encoded data removed]",
      "text/plain": [
       "<Figure size 432x288 with 1 Axes>"
      ]
     },
     "metadata": {
      "needs_background": "light"
     },
     "output_type": "display_data"
    }
   ],
   "source": [
    "plt.plot(K, sse, marker = 'X')\n",
    "plt.xlabel('Cluster Centers')\n",
    "plt.ylabel('Sum of squared errors')\n",
    "plt.title('Optimal clusters by elbow method')"
   ]
  },
  {
   "cell_type": "markdown",
   "metadata": {},
   "source": [
    "## Silhouette Score\n",
    "\n",
    "[Silhouette Score](https://medium.com/@jyotiyadav99111/selecting-optimal-number-of-clusters-in-kmeans-algorithm-silhouette-score-c0d9ebb11308)"
   ]
  },
  {
   "cell_type": "code",
   "execution_count": 39,
   "metadata": {},
   "outputs": [
    {
     "data": {
      "text/plain": [
       "[5.143834453296078e-07,\n",
       " 5.144899870636114e-07,\n",
       " 0.0004144218814514968,\n",
       " 5.147032029923015e-07,\n",
       " 5.148098773976554e-07,\n",
       " 5.149165958730118e-07,\n",
       " 5.150233586021601e-07,\n",
       " 0.0004144223262964772]"
      ]
     },
     "execution_count": 39,
     "metadata": {},
     "output_type": "execute_result"
    }
   ],
   "source": [
    "sdistortion = []\n",
    "s = range(2, 10)\n",
    "for k in s:\n",
    "    scluster = KMeans(n_clusters = k)\n",
    "    labels = scluster.fit_predict(tfidf_matrix)\n",
    "    sdistortion.append(silhouette_score(tfidf_matrix, labels, metric = 'euclidean'))\n",
    "    \n",
    "sdistortion"
   ]
  },
  {
   "cell_type": "code",
   "execution_count": 40,
   "metadata": {},
   "outputs": [
    {
     "data": {
      "image/png": "[encoded data removed]",
      "text/plain": [
       "<Figure size 432x288 with 1 Axes>"
      ]
     },
     "metadata": {
      "needs_background": "light"
     },
     "output_type": "display_data"
    },
    {
     "data": {
      "text/plain": [
       "<Figure size 360x720 with 0 Axes>"
      ]
     },
     "metadata": {},
     "output_type": "display_data"
    }
   ],
   "source": [
    "plt.plot(s, sdistortion)\n",
    "plt.xlabel('k')\n",
    "plt.ylabel('Number of clusters')\n",
    "plt.title('Silhouette score')\n",
    "plt.figure(figsize = (5, 10))\n",
    "plt.show()"
   ]
  }
 ],
 "metadata": {
  "kernelspec": {
   "display_name": "Python 3",
   "language": "python",
   "name": "python3"
  },
  "language_info": {
   "codemirror_mode": {
    "name": "ipython",
    "version": 3
   },
   "file_extension": ".py",
   "mimetype": "text/x-python",
   "name": "python",
   "nbconvert_exporter": "python",
   "pygments_lexer": "ipython3",
   "version": "3.7.3"
  }
 },
 "nbformat": 4,
 "nbformat_minor": 2
}
